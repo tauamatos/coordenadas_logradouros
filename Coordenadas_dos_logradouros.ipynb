{
  "nbformat": 4,
  "nbformat_minor": 0,
  "metadata": {
    "colab": {
      "provenance": [],
      "mount_file_id": "1iXASgUHr3ATcbGiK0CQ5HODjNJritRMt",
      "authorship_tag": "ABX9TyNa4gQDoW+yrzazsTk99U3W",
      "include_colab_link": true
    },
    "kernelspec": {
      "name": "python3",
      "display_name": "Python 3"
    },
    "language_info": {
      "name": "python"
    }
  },
  "cells": [
    {
      "cell_type": "markdown",
      "metadata": {
        "id": "view-in-github",
        "colab_type": "text"
      },
      "source": [
        "<a href=\"https://colab.research.google.com/github/tauamatos/coordenadas_logradouros/blob/main/Coordenadas_dos_logradouros.ipynb\" target=\"_parent\"><img src=\"https://colab.research.google.com/assets/colab-badge.svg\" alt=\"Open In Colab\"/></a>"
      ]
    },
    {
      "cell_type": "markdown",
      "source": [
        "**BIBLIOTECAS**"
      ],
      "metadata": {
        "id": "LWI3IM8W3-7B"
      }
    },
    {
      "cell_type": "code",
      "execution_count": 22,
      "metadata": {
        "id": "9D-DBFnY3YGZ",
        "colab": {
          "base_uri": "https://localhost:8080/"
        },
        "outputId": "4109ca3b-b081-4df6-a620-d0bfa56999b8"
      },
      "outputs": [
        {
          "output_type": "stream",
          "name": "stdout",
          "text": [
            "Requirement already satisfied: geopandas in /usr/local/lib/python3.10/dist-packages (0.13.2)\n",
            "Requirement already satisfied: shapely in /usr/local/lib/python3.10/dist-packages (2.0.4)\n",
            "Requirement already satisfied: fiona>=1.8.19 in /usr/local/lib/python3.10/dist-packages (from geopandas) (1.9.6)\n",
            "Requirement already satisfied: packaging in /usr/local/lib/python3.10/dist-packages (from geopandas) (24.0)\n",
            "Requirement already satisfied: pandas>=1.1.0 in /usr/local/lib/python3.10/dist-packages (from geopandas) (2.0.3)\n",
            "Requirement already satisfied: pyproj>=3.0.1 in /usr/local/lib/python3.10/dist-packages (from geopandas) (3.6.1)\n",
            "Requirement already satisfied: numpy<3,>=1.14 in /usr/local/lib/python3.10/dist-packages (from shapely) (1.25.2)\n",
            "Requirement already satisfied: attrs>=19.2.0 in /usr/local/lib/python3.10/dist-packages (from fiona>=1.8.19->geopandas) (23.2.0)\n",
            "Requirement already satisfied: certifi in /usr/local/lib/python3.10/dist-packages (from fiona>=1.8.19->geopandas) (2024.2.2)\n",
            "Requirement already satisfied: click~=8.0 in /usr/local/lib/python3.10/dist-packages (from fiona>=1.8.19->geopandas) (8.1.7)\n",
            "Requirement already satisfied: click-plugins>=1.0 in /usr/local/lib/python3.10/dist-packages (from fiona>=1.8.19->geopandas) (1.1.1)\n",
            "Requirement already satisfied: cligj>=0.5 in /usr/local/lib/python3.10/dist-packages (from fiona>=1.8.19->geopandas) (0.7.2)\n",
            "Requirement already satisfied: six in /usr/local/lib/python3.10/dist-packages (from fiona>=1.8.19->geopandas) (1.16.0)\n",
            "Requirement already satisfied: python-dateutil>=2.8.2 in /usr/local/lib/python3.10/dist-packages (from pandas>=1.1.0->geopandas) (2.8.2)\n",
            "Requirement already satisfied: pytz>=2020.1 in /usr/local/lib/python3.10/dist-packages (from pandas>=1.1.0->geopandas) (2023.4)\n",
            "Requirement already satisfied: tzdata>=2022.1 in /usr/local/lib/python3.10/dist-packages (from pandas>=1.1.0->geopandas) (2024.1)\n"
          ]
        }
      ],
      "source": [
        "# Instalar bibliotecas necessárias\n",
        "!pip install geopandas shapely\n",
        "import geopandas as gpd\n",
        "import pandas as pd\n",
        "import os\n",
        "from google.colab import files"
      ]
    },
    {
      "cell_type": "markdown",
      "source": [
        "**IMPORTAR BIBLIOTECAS**"
      ],
      "metadata": {
        "id": "gaONebTO4Q1M"
      }
    },
    {
      "cell_type": "code",
      "source": [
        "# Importar bibliotecas necessárias\n",
        "import geopandas as gpd\n",
        "import pandas as pd\n",
        "\n",
        "from google.colab import files\n",
        "\n",
        "# Fazer upload dos arquivos necessários do shapefile\n",
        "uploaded = files.upload()"
      ],
      "metadata": {
        "colab": {
          "base_uri": "https://localhost:8080/",
          "height": 246
        },
        "id": "aRHfdXbb4Qat",
        "outputId": "1fdc719d-ecf0-4614-9cb0-d8fa6656ab2c"
      },
      "execution_count": 23,
      "outputs": [
        {
          "output_type": "display_data",
          "data": {
            "text/plain": [
              "<IPython.core.display.HTML object>"
            ],
            "text/html": [
              "\n",
              "     <input type=\"file\" id=\"files-aa8c7e54-58d7-433e-8c0a-847e560781f4\" name=\"files[]\" multiple disabled\n",
              "        style=\"border:none\" />\n",
              "     <output id=\"result-aa8c7e54-58d7-433e-8c0a-847e560781f4\">\n",
              "      Upload widget is only available when the cell has been executed in the\n",
              "      current browser session. Please rerun this cell to enable.\n",
              "      </output>\n",
              "      <script>// Copyright 2017 Google LLC\n",
              "//\n",
              "// Licensed under the Apache License, Version 2.0 (the \"License\");\n",
              "// you may not use this file except in compliance with the License.\n",
              "// You may obtain a copy of the License at\n",
              "//\n",
              "//      http://www.apache.org/licenses/LICENSE-2.0\n",
              "//\n",
              "// Unless required by applicable law or agreed to in writing, software\n",
              "// distributed under the License is distributed on an \"AS IS\" BASIS,\n",
              "// WITHOUT WARRANTIES OR CONDITIONS OF ANY KIND, either express or implied.\n",
              "// See the License for the specific language governing permissions and\n",
              "// limitations under the License.\n",
              "\n",
              "/**\n",
              " * @fileoverview Helpers for google.colab Python module.\n",
              " */\n",
              "(function(scope) {\n",
              "function span(text, styleAttributes = {}) {\n",
              "  const element = document.createElement('span');\n",
              "  element.textContent = text;\n",
              "  for (const key of Object.keys(styleAttributes)) {\n",
              "    element.style[key] = styleAttributes[key];\n",
              "  }\n",
              "  return element;\n",
              "}\n",
              "\n",
              "// Max number of bytes which will be uploaded at a time.\n",
              "const MAX_PAYLOAD_SIZE = 100 * 1024;\n",
              "\n",
              "function _uploadFiles(inputId, outputId) {\n",
              "  const steps = uploadFilesStep(inputId, outputId);\n",
              "  const outputElement = document.getElementById(outputId);\n",
              "  // Cache steps on the outputElement to make it available for the next call\n",
              "  // to uploadFilesContinue from Python.\n",
              "  outputElement.steps = steps;\n",
              "\n",
              "  return _uploadFilesContinue(outputId);\n",
              "}\n",
              "\n",
              "// This is roughly an async generator (not supported in the browser yet),\n",
              "// where there are multiple asynchronous steps and the Python side is going\n",
              "// to poll for completion of each step.\n",
              "// This uses a Promise to block the python side on completion of each step,\n",
              "// then passes the result of the previous step as the input to the next step.\n",
              "function _uploadFilesContinue(outputId) {\n",
              "  const outputElement = document.getElementById(outputId);\n",
              "  const steps = outputElement.steps;\n",
              "\n",
              "  const next = steps.next(outputElement.lastPromiseValue);\n",
              "  return Promise.resolve(next.value.promise).then((value) => {\n",
              "    // Cache the last promise value to make it available to the next\n",
              "    // step of the generator.\n",
              "    outputElement.lastPromiseValue = value;\n",
              "    return next.value.response;\n",
              "  });\n",
              "}\n",
              "\n",
              "/**\n",
              " * Generator function which is called between each async step of the upload\n",
              " * process.\n",
              " * @param {string} inputId Element ID of the input file picker element.\n",
              " * @param {string} outputId Element ID of the output display.\n",
              " * @return {!Iterable<!Object>} Iterable of next steps.\n",
              " */\n",
              "function* uploadFilesStep(inputId, outputId) {\n",
              "  const inputElement = document.getElementById(inputId);\n",
              "  inputElement.disabled = false;\n",
              "\n",
              "  const outputElement = document.getElementById(outputId);\n",
              "  outputElement.innerHTML = '';\n",
              "\n",
              "  const pickedPromise = new Promise((resolve) => {\n",
              "    inputElement.addEventListener('change', (e) => {\n",
              "      resolve(e.target.files);\n",
              "    });\n",
              "  });\n",
              "\n",
              "  const cancel = document.createElement('button');\n",
              "  inputElement.parentElement.appendChild(cancel);\n",
              "  cancel.textContent = 'Cancel upload';\n",
              "  const cancelPromise = new Promise((resolve) => {\n",
              "    cancel.onclick = () => {\n",
              "      resolve(null);\n",
              "    };\n",
              "  });\n",
              "\n",
              "  // Wait for the user to pick the files.\n",
              "  const files = yield {\n",
              "    promise: Promise.race([pickedPromise, cancelPromise]),\n",
              "    response: {\n",
              "      action: 'starting',\n",
              "    }\n",
              "  };\n",
              "\n",
              "  cancel.remove();\n",
              "\n",
              "  // Disable the input element since further picks are not allowed.\n",
              "  inputElement.disabled = true;\n",
              "\n",
              "  if (!files) {\n",
              "    return {\n",
              "      response: {\n",
              "        action: 'complete',\n",
              "      }\n",
              "    };\n",
              "  }\n",
              "\n",
              "  for (const file of files) {\n",
              "    const li = document.createElement('li');\n",
              "    li.append(span(file.name, {fontWeight: 'bold'}));\n",
              "    li.append(span(\n",
              "        `(${file.type || 'n/a'}) - ${file.size} bytes, ` +\n",
              "        `last modified: ${\n",
              "            file.lastModifiedDate ? file.lastModifiedDate.toLocaleDateString() :\n",
              "                                    'n/a'} - `));\n",
              "    const percent = span('0% done');\n",
              "    li.appendChild(percent);\n",
              "\n",
              "    outputElement.appendChild(li);\n",
              "\n",
              "    const fileDataPromise = new Promise((resolve) => {\n",
              "      const reader = new FileReader();\n",
              "      reader.onload = (e) => {\n",
              "        resolve(e.target.result);\n",
              "      };\n",
              "      reader.readAsArrayBuffer(file);\n",
              "    });\n",
              "    // Wait for the data to be ready.\n",
              "    let fileData = yield {\n",
              "      promise: fileDataPromise,\n",
              "      response: {\n",
              "        action: 'continue',\n",
              "      }\n",
              "    };\n",
              "\n",
              "    // Use a chunked sending to avoid message size limits. See b/62115660.\n",
              "    let position = 0;\n",
              "    do {\n",
              "      const length = Math.min(fileData.byteLength - position, MAX_PAYLOAD_SIZE);\n",
              "      const chunk = new Uint8Array(fileData, position, length);\n",
              "      position += length;\n",
              "\n",
              "      const base64 = btoa(String.fromCharCode.apply(null, chunk));\n",
              "      yield {\n",
              "        response: {\n",
              "          action: 'append',\n",
              "          file: file.name,\n",
              "          data: base64,\n",
              "        },\n",
              "      };\n",
              "\n",
              "      let percentDone = fileData.byteLength === 0 ?\n",
              "          100 :\n",
              "          Math.round((position / fileData.byteLength) * 100);\n",
              "      percent.textContent = `${percentDone}% done`;\n",
              "\n",
              "    } while (position < fileData.byteLength);\n",
              "  }\n",
              "\n",
              "  // All done.\n",
              "  yield {\n",
              "    response: {\n",
              "      action: 'complete',\n",
              "    }\n",
              "  };\n",
              "}\n",
              "\n",
              "scope.google = scope.google || {};\n",
              "scope.google.colab = scope.google.colab || {};\n",
              "scope.google.colab._files = {\n",
              "  _uploadFiles,\n",
              "  _uploadFilesContinue,\n",
              "};\n",
              "})(self);\n",
              "</script> "
            ]
          },
          "metadata": {}
        },
        {
          "output_type": "stream",
          "name": "stdout",
          "text": [
            "Saving logradouros.qmd to logradouros (2).qmd\n",
            "Saving logradouros.dbf to logradouros (2).dbf\n",
            "Saving logradouros.shp to logradouros (2).shp\n",
            "Saving logradouros.shx to logradouros (2).shx\n",
            "Saving logradouros.prj to logradouros (2).prj\n",
            "Saving logradouros.cpg to logradouros (2).cpg\n"
          ]
        }
      ]
    },
    {
      "cell_type": "markdown",
      "source": [
        "**CAMINHO DO SHAPEFILE**"
      ],
      "metadata": {
        "id": "FJQoD1MM4aH-"
      }
    },
    {
      "cell_type": "code",
      "source": [
        "# Caminho para os arquivos do shapefile\n",
        "shapefile_path = '/content/drive/MyDrive/Colab Notebooks/Logradouros - Coletar coordenadas/logradouros.shp'"
      ],
      "metadata": {
        "id": "G6Rk_nTw4Z6m"
      },
      "execution_count": 28,
      "outputs": []
    },
    {
      "cell_type": "markdown",
      "source": [
        "**COMANDO**"
      ],
      "metadata": {
        "id": "wTfl9ThJ41dq"
      }
    },
    {
      "cell_type": "code",
      "source": [
        "# Ler o shapefile usando geopandas\n",
        "gdf = gpd.read_file(shapefile_path)\n",
        "\n",
        "# Verificar os primeiros registros do GeoDataFrame para garantir que a leitura foi correta\n",
        "print(gdf.head())\n",
        "print(gdf.columns)\n",
        "\n",
        "\n",
        "\n",
        "# Lista para armazenar os resultados\n",
        "resultados = []\n",
        "\n",
        "# Iterar sobre cada linha na camada\n",
        "for idx, row in gdf.iterrows():\n",
        "    # Obter a geometria da linha\n",
        "    geom = row.geometry\n",
        "\n",
        "    if geom.geom_type == 'LineString':\n",
        "        # Obter as coordenadas da linha\n",
        "        coords = list(geom.coords)\n",
        "\n",
        "        # Coordenadas iniciais e finais\n",
        "        coord_inicial = coords[0]\n",
        "        coord_final = coords[-1]\n",
        "\n",
        "        # Adicionar os resultados na lista\n",
        "        resultados.append({\n",
        "            'CODLOG': row['CODLOG'],  # Substitua 'CODLOG' pelo nome do campo que contém o ID da linha, se houver\n",
        "            'TOPONIM': row['TOPONIM'],  # Substitua 'TOPONIM' pelo nome do campo que contém o nome do logradouro\n",
        "            'Coord_Inicial_X': coord_inicial[0],\n",
        "            'Coord_Inicial_Y': coord_inicial[1],\n",
        "            'Coord_Final_X': coord_final[0],\n",
        "            'Coord_Final_Y': coord_final[1]\n",
        "        })\n"
      ],
      "metadata": {
        "id": "vFqTkZmY41IY",
        "colab": {
          "base_uri": "https://localhost:8080/"
        },
        "outputId": "181c1dcf-bb37-471e-ab82-c03c073b02e2"
      },
      "execution_count": 29,
      "outputs": [
        {
          "output_type": "stream",
          "name": "stdout",
          "text": [
            "  HIERARQ   CODLOG                               TOPONIM  ULTIMA_ALT  \\\n",
            "0      VL  14366.0  Travessa São Paulo de Tancredo Neves  20050420.0   \n",
            "1      VL  13113.0                     Rua Átila Freitas         0.0   \n",
            "2      VL  14355.0     2ª Travessa dos Tecelões de Baixo         0.0   \n",
            "3      VL    792.0     3ª Travessa dos Tecelões de Baixo         0.0   \n",
            "4      VL  15344.0        2ª Travessa Laurindo Cerqueira         0.0   \n",
            "\n",
            "      DESCRICAO_ ORIG_NUM       ID  \\\n",
            "0  Eixo ajustado     None  27173.0   \n",
            "1           None     None  27174.0   \n",
            "2           None     None  27175.0   \n",
            "3           None     None  27176.0   \n",
            "4           None     None  27177.0   \n",
            "\n",
            "                                            geometry  \n",
            "0  LINESTRING (560284.048 8569382.218, 560318.813...  \n",
            "1  LINESTRING (560248.533 8569354.953, 560267.903...  \n",
            "2  LINESTRING (555546.244 8573801.841, 555503.242...  \n",
            "3  LINESTRING (555510.465 8573772.857, 555478.652...  \n",
            "4  LINESTRING (555701.645 8573920.827, 555706.956...  \n",
            "Index(['HIERARQ', 'CODLOG', 'TOPONIM', 'ULTIMA_ALT', 'DESCRICAO_', 'ORIG_NUM',\n",
            "       'ID', 'geometry'],\n",
            "      dtype='object')\n"
          ]
        }
      ]
    },
    {
      "cell_type": "markdown",
      "source": [
        "**VERIFICAR**"
      ],
      "metadata": {
        "id": "W8rXeLxw809W"
      }
    },
    {
      "cell_type": "code",
      "source": [
        "# Converter a lista de resultados para um DataFrame do pandas\n",
        "df_resultados = pd.DataFrame(resultados)\n",
        "# Verificar o número de registros no DataFrame resultante\n",
        "print(f\"Total de registros processados: {len(df_resultados)}\")"
      ],
      "metadata": {
        "id": "Usap3nPc81JQ",
        "colab": {
          "base_uri": "https://localhost:8080/"
        },
        "outputId": "f7c3390f-be14-4974-9cda-329e74f32abe"
      },
      "execution_count": 30,
      "outputs": [
        {
          "output_type": "stream",
          "name": "stdout",
          "text": [
            "Total de registros processados: 21803\n"
          ]
        }
      ]
    },
    {
      "cell_type": "markdown",
      "source": [
        "**SALVAR**"
      ],
      "metadata": {
        "id": "gzBuh2cWFn7M"
      }
    },
    {
      "cell_type": "code",
      "source": [
        "# Caminho para salvar o arquivo CSV\n",
        "csv_file = '/content/drive/MyDrive/Colab Notebooks/Logradouros - Coletar coordenadas/coordenadas_logradouros3.csv'\n",
        "\n",
        "# Salvar os resultados em um arquivo CSV\n",
        "df_resultados.to_csv(csv_file, index=False)\n",
        "\n",
        "print(f\"Coordenadas exportadas para {csv_file}\")"
      ],
      "metadata": {
        "colab": {
          "base_uri": "https://localhost:8080/"
        },
        "id": "9-xtJBMJFnp8",
        "outputId": "560eda98-438a-43b1-c878-84c41e46a835"
      },
      "execution_count": 31,
      "outputs": [
        {
          "output_type": "stream",
          "name": "stdout",
          "text": [
            "Coordenadas exportadas para /content/drive/MyDrive/Colab Notebooks/Logradouros - Coletar coordenadas/coordenadas_logradouros3.csv\n"
          ]
        }
      ]
    },
    {
      "cell_type": "markdown",
      "source": [],
      "metadata": {
        "id": "XuafVDYm_xVz"
      }
    }
  ]
}